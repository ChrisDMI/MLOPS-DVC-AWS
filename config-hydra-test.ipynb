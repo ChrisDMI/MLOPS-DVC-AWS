{
 "cells": [
  {
   "cell_type": "markdown",
   "metadata": {},
   "source": [
    "### Let's load this file using `OmegaConf`\n"
   ]
  },
  {
   "cell_type": "code",
   "execution_count": 1,
   "metadata": {},
   "outputs": [
    {
     "name": "stdout",
     "output_type": "stream",
     "text": [
      "raviraja\n",
      "i_like_my_sleeping\n"
     ]
    }
   ],
   "source": [
    "from omegaconf import OmegaConf\n",
    "# loading\n",
    "config = OmegaConf.load('config-hydra-test.yaml')\n",
    "\n",
    "# accessing\n",
    "print(config.preferences.user)\n",
    "print(config[\"preferences\"][\"trait\"])"
   ]
  },
  {
   "cell_type": "code",
   "execution_count": null,
   "metadata": {},
   "outputs": [],
   "source": []
  }
 ],
 "metadata": {
  "kernelspec": {
   "display_name": "torch-mps",
   "language": "python",
   "name": "python3"
  },
  "language_info": {
   "codemirror_mode": {
    "name": "ipython",
    "version": 3
   },
   "file_extension": ".py",
   "mimetype": "text/x-python",
   "name": "python",
   "nbconvert_exporter": "python",
   "pygments_lexer": "ipython3",
   "version": "3.8.19"
  }
 },
 "nbformat": 4,
 "nbformat_minor": 2
}
